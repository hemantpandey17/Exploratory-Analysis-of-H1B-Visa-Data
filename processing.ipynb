{
 "cells": [
  {
   "cell_type": "code",
   "execution_count": 1,
   "metadata": {
    "collapsed": true
   },
   "outputs": [],
   "source": [
    "import pandas as pd\n",
    "import numpy as np\n"
   ]
  },
  {
   "cell_type": "code",
   "execution_count": 2,
   "metadata": {
    "collapsed": true
   },
   "outputs": [],
   "source": [
    "data_path = \"data/\"\n",
    "\n",
    "data_frame_original = pd.read_csv(\"data/h1b_kaggle.csv\",encoding=\"utf-8\",na_values=[''])\n",
    "data_frame_original = data_frame_original.dropna(axis=0, how='any')\n",
    "\n",
    "\t#columns are - ['Unnamed: 0' 'CASE_STATUS' 'EMPLOYER_NAME' 'SOC_NAME' 'JOB_TITLE'\n",
    "\t#'FULL_TIME_POSITION' 'PREVAILING_WAGE' 'YEAR' 'WORKSITE' 'lon' 'lat']\n",
    "\n",
    "\t# print data_frame_original.columns.values\n",
    "\n",
    "data_frame_original['CITY'], data_frame_original['STATE'] = data_frame_original['WORKSITE'].str.split(',',1).str\n",
    "data_frame_original['CITY'] = data_frame_original['CITY'].map(lambda x: x.strip())\n",
    "data_frame_original['STATE'] = data_frame_original['STATE'].map(lambda x: x.strip())"
   ]
  },
  {
   "cell_type": "code",
   "execution_count": 3,
   "metadata": {
    "collapsed": true
   },
   "outputs": [],
   "source": [
    "ids = [\"HI\", \"AK\", \"FL\", \"SC\", \"GA\", \"AL\", \"NC\", \"TN\", \"RI\", \"CT\", \"MA\",\n",
    "  \t\"ME\", \"NH\", \"VT\", \"NY\", \"NJ\", \"PA\", \"DE\", \"MD\", \"WV\", \"KY\", \"OH\", \n",
    "  \t\"MI\", \"WY\", \"MT\", \"ID\", \"WA\", \"DC\", \"TX\", \"CA\", \"AZ\", \"NV\", \"UT\", \n",
    "  \t\"CO\", \"NM\", \"OR\", \"ND\", \"SD\", \"NE\", \"IA\", \"MS\", \"IN\", \"IL\", \"MN\", \n",
    "  \t\"WI\", \"MO\", \"AR\", \"OK\", \"KS\", \"LS\", \"VA\"]\n",
    "  \t\n",
    "states = ['HAWAII', 'ALASKA','FLORIDA','SOUTH CAROLINA','GEORGIA','ALABAMA','NORTH CAROLINA',\n",
    "  \t'TENNESSEE','RHODE ISLAND','CONNECTICUT','MASSACHUSETTS','MAINE','NEW HAMPSHIRE','VERMONT',\n",
    "  \t'NEW YORK','NEW JERSEY','PENNSYLVANIA','DELAWARE','MARYLAND','WEST VIRGINA','KENTUCKY','OHIO',\n",
    "  \t'MICHIGAN','WYOMING','MONTANA','IDAHO','WASHINGTON','DISTRICT OF COLUMBIA','TEXAS','CALIFORNIA',\n",
    "  \t'ARIZONA','NEVADA','UTAH','COLORADO','NEW MEXICO','OREGON','NORTH DAKOTA','SOUTH DAKOTA',\n",
    "  \t'NEBRASKA','IOWA','MISSISSIPPI','INDIANA','ILLINOIS','MINNESOTA','WISCONSIN','MISSOURI','ARKANSAS','OKLAHOMA',\n",
    "  \t'KANSAS','LOUISIANA','VIRGINIA']"
   ]
  },
  {
   "cell_type": "code",
   "execution_count": 4,
   "metadata": {
    "collapsed": false
   },
   "outputs": [],
   "source": [
    "df = data_frame_original[['JOB_TITLE', 'PREVAILING_WAGE']]"
   ]
  },
  {
   "cell_type": "code",
   "execution_count": 5,
   "metadata": {
    "collapsed": false
   },
   "outputs": [],
   "source": [
    "df_count = pd.DataFrame({'count' : df.groupby( [ 'JOB_TITLE'] ).size()}).reset_index()\n",
    "df_count = df_count.sort_values(['count','JOB_TITLE'], ascending=[False,True])\n",
    "temp1 = df_count.head(30)"
   ]
  },
  {
   "cell_type": "code",
   "execution_count": 6,
   "metadata": {
    "collapsed": true
   },
   "outputs": [],
   "source": [
    "list_top_job = temp1['JOB_TITLE'].tolist()"
   ]
  },
  {
   "cell_type": "code",
   "execution_count": 10,
   "metadata": {
    "collapsed": false
   },
   "outputs": [],
   "source": [
    "f = open('data/box.csv','w')\n",
    "f.write('JOB_TITLE,min,max,median,q1,q3\\n')\n",
    "for job in list_top_job:\n",
    "    df_job = df.loc[df['JOB_TITLE']==job]\n",
    "    df_quantile = df_job['PREVAILING_WAGE'].quantile([0,0.25,0.5,0.75,1])\n",
    "    l = df_quantile.tolist()\n",
    "    f.write(job+','+str(l[0])+','+str(l[4])+','+str(l[2])+','+str(l[1])+','+str(l[3])+'\\n')"
   ]
  },
  {
   "cell_type": "code",
   "execution_count": null,
   "metadata": {
    "collapsed": true
   },
   "outputs": [],
   "source": []
  }
 ],
 "metadata": {
  "anaconda-cloud": {},
  "kernelspec": {
   "display_name": "Python [conda root]",
   "language": "python",
   "name": "conda-root-py"
  },
  "language_info": {
   "codemirror_mode": {
    "name": "ipython",
    "version": 2
   },
   "file_extension": ".py",
   "mimetype": "text/x-python",
   "name": "python",
   "nbconvert_exporter": "python",
   "pygments_lexer": "ipython2",
   "version": "2.7.12"
  }
 },
 "nbformat": 4,
 "nbformat_minor": 1
}
